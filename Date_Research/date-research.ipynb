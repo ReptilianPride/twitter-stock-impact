{
 "cells": [
  {
   "cell_type": "markdown",
   "metadata": {},
   "source": [
    "# To compare stock dates and trend dates"
   ]
  },
  {
   "cell_type": "markdown",
   "metadata": {},
   "source": [
    "## To find intersection between the dates data"
   ]
  },
  {
   "cell_type": "code",
   "execution_count": 1,
   "metadata": {},
   "outputs": [],
   "source": [
    "import pandas as pd"
   ]
  },
  {
   "cell_type": "code",
   "execution_count": 2,
   "metadata": {},
   "outputs": [
    {
     "name": "stdout",
     "output_type": "stream",
     "text": [
      "Imported Successsfully!\n"
     ]
    }
   ],
   "source": [
    "sk_dates_df=pd.read_csv('NVDA_key_day_dates.csv')\n",
    "trd_dates_df=pd.read_csv('NVDA_Trend_dates.csv')\n",
    "print('Imported Successsfully!')"
   ]
  },
  {
   "cell_type": "code",
   "execution_count": 3,
   "metadata": {},
   "outputs": [
    {
     "name": "stdout",
     "output_type": "stream",
     "text": [
      "Row count (Stock Dates): 158\n"
     ]
    }
   ],
   "source": [
    "sk_dates_df=sk_dates_df.iloc[634:] #from 2020\n",
    "print(f'Row count (Stock Dates): {sk_dates_df.index.size}')"
   ]
  },
  {
   "cell_type": "code",
   "execution_count": 4,
   "metadata": {},
   "outputs": [
    {
     "name": "stdout",
     "output_type": "stream",
     "text": [
      "Row count (Trend Dates): 340\n"
     ]
    }
   ],
   "source": [
    "print(f'Row count (Trend Dates): {trd_dates_df.index.size}')"
   ]
  },
  {
   "cell_type": "markdown",
   "metadata": {},
   "source": [
    "### To convert into datetime"
   ]
  },
  {
   "cell_type": "code",
   "execution_count": 5,
   "metadata": {},
   "outputs": [],
   "source": [
    "trd_dates_df['Dates']=pd.to_datetime(trd_dates_df['Dates'],format=\"%d-%m-%Y\")"
   ]
  },
  {
   "cell_type": "code",
   "execution_count": 6,
   "metadata": {},
   "outputs": [],
   "source": [
    "sk_dates_df['Dates']=pd.to_datetime(sk_dates_df['Dates'],format=\"%a %d %b '%y\")"
   ]
  },
  {
   "cell_type": "markdown",
   "metadata": {},
   "source": [
    "### To mark the dayname as a new column"
   ]
  },
  {
   "cell_type": "markdown",
   "metadata": {},
   "source": [
    "Will help us understand the data better"
   ]
  },
  {
   "cell_type": "code",
   "execution_count": 7,
   "metadata": {},
   "outputs": [],
   "source": [
    "trd_dates_df['Dayname']=trd_dates_df['Dates'].dt.day_name()"
   ]
  },
  {
   "cell_type": "code",
   "execution_count": 8,
   "metadata": {},
   "outputs": [],
   "source": [
    "sk_dates_df['Dayname']=sk_dates_df['Dates'].dt.day_name()"
   ]
  },
  {
   "cell_type": "markdown",
   "metadata": {},
   "source": [
    "What days are considered in trend dates data"
   ]
  },
  {
   "cell_type": "code",
   "execution_count": 9,
   "metadata": {},
   "outputs": [
    {
     "data": {
      "text/plain": [
       "Dayname\n",
       "Thursday    85\n",
       "Friday      85\n",
       "Monday      85\n",
       "Tuesday     85\n",
       "Name: count, dtype: int64"
      ]
     },
     "execution_count": 9,
     "metadata": {},
     "output_type": "execute_result"
    }
   ],
   "source": [
    "trd_dates_df['Dayname'].value_counts()"
   ]
  },
  {
   "cell_type": "code",
   "execution_count": 10,
   "metadata": {},
   "outputs": [],
   "source": [
    "daywise_stik_count=sk_dates_df['Dayname'].value_counts(ascending=False)\n",
    "stock_count=daywise_stik_count.sum()-daywise_stik_count['Wednesday']"
   ]
  },
  {
   "cell_type": "code",
   "execution_count": 11,
   "metadata": {},
   "outputs": [
    {
     "name": "stdout",
     "output_type": "stream",
     "text": [
      "Number of matches: 47\n",
      "Percent match between datasets: 36.72%\n"
     ]
    }
   ],
   "source": [
    "matched_df=sk_dates_df.merge(trd_dates_df,on='Dates',how='inner')[['Dates', 'Volume', 'Change', 'Direction', 'Dayname_x']]\n",
    "match_counts=sk_dates_df.merge(trd_dates_df,on='Dates',how='inner').index.size\n",
    "print(f'Number of matches: {match_counts}')\n",
    "print(f'Percent match between datasets: {round((match_counts/min(stock_count,trd_dates_df.index.size))*100,2)}%')"
   ]
  },
  {
   "cell_type": "code",
   "execution_count": 12,
   "metadata": {},
   "outputs": [],
   "source": [
    "#to create a csv of the result and save\n",
    "# matched_df.to_csv('Matched_Dates.csv',index=False)"
   ]
  },
  {
   "cell_type": "markdown",
   "metadata": {},
   "source": [
    "### To get dates from stock&trend data but not in the matched data list"
   ]
  },
  {
   "cell_type": "code",
   "execution_count": 13,
   "metadata": {},
   "outputs": [
    {
     "name": "stdout",
     "output_type": "stream",
     "text": [
      "Pure date extraction complete!\n"
     ]
    }
   ],
   "source": [
    "pure_stock_dates=sk_dates_df[~sk_dates_df['Dates'].isin(matched_df['Dates'])]\n",
    "pure_trend_dates=trd_dates_df[~trd_dates_df['Dates'].isin(matched_df['Dates'])]\n",
    "print('Pure date extraction complete!')"
   ]
  },
  {
   "cell_type": "markdown",
   "metadata": {},
   "source": [
    "#### To save the result of pure dates of both stock and trend dates (difference)"
   ]
  },
  {
   "cell_type": "code",
   "execution_count": null,
   "metadata": {},
   "outputs": [
    {
     "name": "stdout",
     "output_type": "stream",
     "text": [
      "CSV save successful!\n"
     ]
    }
   ],
   "source": [
    "pure_stock_dates.to_csv('Pure/Pure_stock_dates.csv',index=False)\n",
    "pure_trend_dates.to_csv('Pure/Pure_trend_dates.csv',index=False)\n",
    "print('CSV save successful!')"
   ]
  },
  {
   "cell_type": "markdown",
   "metadata": {},
   "source": [
    "We can take the mentioned 47+3 dates to use as cases for NVDA to study twitter influence on stock market"
   ]
  },
  {
   "cell_type": "markdown",
   "metadata": {},
   "source": [
    "For the scope of experimentation we shall take a single case and do EDA, while also using all 6 available computers to scrape twitter data."
   ]
  }
 ],
 "metadata": {
  "kernelspec": {
   "display_name": "Python 3",
   "language": "python",
   "name": "python3"
  },
  "language_info": {
   "codemirror_mode": {
    "name": "ipython",
    "version": 3
   },
   "file_extension": ".py",
   "mimetype": "text/x-python",
   "name": "python",
   "nbconvert_exporter": "python",
   "pygments_lexer": "ipython3",
   "version": "3.12.3"
  }
 },
 "nbformat": 4,
 "nbformat_minor": 2
}
