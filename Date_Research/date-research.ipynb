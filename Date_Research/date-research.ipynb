{
 "cells": [
  {
   "cell_type": "markdown",
   "metadata": {},
   "source": [
    "# To compare stock dates and trend dates"
   ]
  },
  {
   "cell_type": "markdown",
   "metadata": {},
   "source": [
    "## To find intersection between the dates data"
   ]
  },
  {
   "cell_type": "code",
   "execution_count": 3,
   "metadata": {},
   "outputs": [],
   "source": [
    "import pandas as pd"
   ]
  },
  {
   "cell_type": "code",
   "execution_count": 4,
   "metadata": {},
   "outputs": [
    {
     "name": "stdout",
     "output_type": "stream",
     "text": [
      "Imported Successsfully!\n"
     ]
    }
   ],
   "source": [
    "sk_dates_df=pd.read_csv('NVDA_key_day_dates.csv')\n",
    "trd_dates_df=pd.read_csv('NVDA_Trend_dates.csv')\n",
    "print('Imported Successsfully!')"
   ]
  },
  {
   "cell_type": "code",
   "execution_count": 5,
   "metadata": {},
   "outputs": [
    {
     "name": "stdout",
     "output_type": "stream",
     "text": [
      "Row count (Stock Dates): 158\n"
     ]
    }
   ],
   "source": [
    "sk_dates_df=sk_dates_df.iloc[634:] #from 2020\n",
    "print(f'Row count (Stock Dates): {sk_dates_df.index.size}')"
   ]
  },
  {
   "cell_type": "code",
   "execution_count": 6,
   "metadata": {},
   "outputs": [
    {
     "name": "stdout",
     "output_type": "stream",
     "text": [
      "Row count (Trend Dates): 340\n"
     ]
    }
   ],
   "source": [
    "print(f'Row count (Trend Dates): {trd_dates_df.index.size}')"
   ]
  },
  {
   "cell_type": "markdown",
   "metadata": {},
   "source": [
    "### To convert into datetime"
   ]
  },
  {
   "cell_type": "code",
   "execution_count": 7,
   "metadata": {},
   "outputs": [],
   "source": [
    "trd_dates_df['Dates']=pd.to_datetime(trd_dates_df['Dates'],format=\"%d-%m-%Y\")"
   ]
  },
  {
   "cell_type": "code",
   "execution_count": 8,
   "metadata": {},
   "outputs": [],
   "source": [
    "sk_dates_df['Dates']=pd.to_datetime(sk_dates_df['Dates'],format=\"%a %d %b '%y\")"
   ]
  },
  {
   "cell_type": "markdown",
   "metadata": {},
   "source": [
    "### To mark the dayname as a new column"
   ]
  },
  {
   "cell_type": "markdown",
   "metadata": {},
   "source": [
    "Will help us understand the data better"
   ]
  },
  {
   "cell_type": "code",
   "execution_count": 9,
   "metadata": {},
   "outputs": [],
   "source": [
    "trd_dates_df['Dayname']=trd_dates_df['Dates'].dt.day_name()"
   ]
  },
  {
   "cell_type": "code",
   "execution_count": 10,
   "metadata": {},
   "outputs": [],
   "source": [
    "sk_dates_df['Dayname']=sk_dates_df['Dates'].dt.day_name()"
   ]
  },
  {
   "cell_type": "markdown",
   "metadata": {},
   "source": [
    "What days are considered in trend dates data"
   ]
  },
  {
   "cell_type": "code",
   "execution_count": 11,
   "metadata": {},
   "outputs": [
    {
     "data": {
      "text/plain": [
       "Dayname\n",
       "Thursday    85\n",
       "Friday      85\n",
       "Monday      85\n",
       "Tuesday     85\n",
       "Name: count, dtype: int64"
      ]
     },
     "execution_count": 11,
     "metadata": {},
     "output_type": "execute_result"
    }
   ],
   "source": [
    "trd_dates_df['Dayname'].value_counts()"
   ]
  },
  {
   "cell_type": "code",
   "execution_count": 12,
   "metadata": {},
   "outputs": [],
   "source": [
    "daywise_stik_count=sk_dates_df['Dayname'].value_counts(ascending=False)\n",
    "stock_count=daywise_stik_count.sum()-daywise_stik_count['Wednesday']"
   ]
  },
  {
   "cell_type": "code",
   "execution_count": 13,
   "metadata": {},
   "outputs": [
    {
     "name": "stdout",
     "output_type": "stream",
     "text": [
      "Number of matches: 47\n",
      "Percent match between datasets: 36.72%\n"
     ]
    }
   ],
   "source": [
    "matched_df=sk_dates_df.merge(trd_dates_df,on='Dates',how='inner')[['Dates', 'Volume', 'Change', 'Direction', 'Dayname_x']]\n",
    "match_counts=sk_dates_df.merge(trd_dates_df,on='Dates',how='inner').index.size\n",
    "print(f'Number of matches: {match_counts}')\n",
    "print(f'Percent match between datasets: {round((match_counts/min(stock_count,trd_dates_df.index.size))*100,2)}%')"
   ]
  },
  {
   "cell_type": "code",
   "execution_count": 15,
   "metadata": {},
   "outputs": [
    {
     "data": {
      "text/html": [
       "<div>\n",
       "<style scoped>\n",
       "    .dataframe tbody tr th:only-of-type {\n",
       "        vertical-align: middle;\n",
       "    }\n",
       "\n",
       "    .dataframe tbody tr th {\n",
       "        vertical-align: top;\n",
       "    }\n",
       "\n",
       "    .dataframe thead th {\n",
       "        text-align: right;\n",
       "    }\n",
       "</style>\n",
       "<table border=\"1\" class=\"dataframe\">\n",
       "  <thead>\n",
       "    <tr style=\"text-align: right;\">\n",
       "      <th></th>\n",
       "      <th>Dates</th>\n",
       "      <th>Volume</th>\n",
       "      <th>Change</th>\n",
       "      <th>Direction</th>\n",
       "      <th>Dayname_x</th>\n",
       "    </tr>\n",
       "  </thead>\n",
       "  <tbody>\n",
       "    <tr>\n",
       "      <th>0</th>\n",
       "      <td>2020-05-08</td>\n",
       "      <td>339.91 M</td>\n",
       "      <td>+0.19 (+2.50%)</td>\n",
       "      <td>UP</td>\n",
       "      <td>Friday</td>\n",
       "    </tr>\n",
       "    <tr>\n",
       "      <th>1</th>\n",
       "      <td>2020-05-11</td>\n",
       "      <td>469.06 M</td>\n",
       "      <td>+0.25 (+3.24%)</td>\n",
       "      <td>UP</td>\n",
       "      <td>Monday</td>\n",
       "    </tr>\n",
       "    <tr>\n",
       "      <th>2</th>\n",
       "      <td>2020-05-15</td>\n",
       "      <td>987.66 M</td>\n",
       "      <td>+0.46 (+5.73%)</td>\n",
       "      <td>UP</td>\n",
       "      <td>Friday</td>\n",
       "    </tr>\n",
       "    <tr>\n",
       "      <th>3</th>\n",
       "      <td>2020-05-18</td>\n",
       "      <td>776.4 M</td>\n",
       "      <td>+0.26 (+3.06%)</td>\n",
       "      <td>UP</td>\n",
       "      <td>Monday</td>\n",
       "    </tr>\n",
       "    <tr>\n",
       "      <th>4</th>\n",
       "      <td>2020-05-19</td>\n",
       "      <td>717.32 M</td>\n",
       "      <td>+0.06 (+0.63%)</td>\n",
       "      <td>UP</td>\n",
       "      <td>Tuesday</td>\n",
       "    </tr>\n",
       "  </tbody>\n",
       "</table>\n",
       "</div>"
      ],
      "text/plain": [
       "       Dates    Volume          Change Direction Dayname_x\n",
       "0 2020-05-08  339.91 M  +0.19 (+2.50%)        UP    Friday\n",
       "1 2020-05-11  469.06 M  +0.25 (+3.24%)        UP    Monday\n",
       "2 2020-05-15  987.66 M  +0.46 (+5.73%)        UP    Friday\n",
       "3 2020-05-18   776.4 M  +0.26 (+3.06%)        UP    Monday\n",
       "4 2020-05-19  717.32 M  +0.06 (+0.63%)        UP   Tuesday"
      ]
     },
     "execution_count": 15,
     "metadata": {},
     "output_type": "execute_result"
    }
   ],
   "source": [
    "matched_df.head()"
   ]
  },
  {
   "cell_type": "code",
   "execution_count": 14,
   "metadata": {},
   "outputs": [],
   "source": [
    "#to create a csv of the result and save\n",
    "# matched_df.to_csv('Output/Matched_Dates.csv',index=False)"
   ]
  },
  {
   "cell_type": "markdown",
   "metadata": {},
   "source": [
    "We can take the mentioned 47+3 dates to use as cases for NVDA to study twitter influence on stock market"
   ]
  },
  {
   "cell_type": "markdown",
   "metadata": {},
   "source": [
    "For the scope of experimentation we shall take a single case and do EDA, while also using all 6 available computers to scrape twitter data."
   ]
  }
 ],
 "metadata": {
  "kernelspec": {
   "display_name": "Python 3",
   "language": "python",
   "name": "python3"
  },
  "language_info": {
   "codemirror_mode": {
    "name": "ipython",
    "version": 3
   },
   "file_extension": ".py",
   "mimetype": "text/x-python",
   "name": "python",
   "nbconvert_exporter": "python",
   "pygments_lexer": "ipython3",
   "version": "3.12.3"
  }
 },
 "nbformat": 4,
 "nbformat_minor": 2
}
