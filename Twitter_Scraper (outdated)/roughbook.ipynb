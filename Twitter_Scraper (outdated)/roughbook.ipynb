{
 "cells": [
  {
   "cell_type": "code",
   "execution_count": 223,
   "metadata": {},
   "outputs": [],
   "source": [
    "from selenium import webdriver\n",
    "from selenium.webdriver.common.by import By\n",
    "from selenium.webdriver.common.keys import Keys\n",
    "from selenium.webdriver.edge.service import Service\n",
    "from selenium.webdriver.edge.service import Service as EdgeService\n",
    "from selenium.webdriver.support import expected_conditions as EC\n",
    "import pickle\n",
    "import time\n",
    "import os\n"
   ]
  },
  {
   "cell_type": "code",
   "execution_count": 224,
   "metadata": {},
   "outputs": [
    {
     "data": {
      "text/plain": [
       "'https://x.com/search?q=(%22nvda%22%20OR%20%22nvidia%22)%20min_faves%3A1%20until%3A2023-05-19%20since%3A2023-05-18&src=typed_query&f=top'"
      ]
     },
     "execution_count": 224,
     "metadata": {},
     "output_type": "execute_result"
    }
   ],
   "source": [
    "q_keywords=['nvda','nvidia']\n",
    "q_favs=1\n",
    "q_since='2023-05-18'\n",
    "q_until='2023-05-19'\n",
    "\n",
    "twitter_query_statement=f\"https://x.com/search?q=(%22{q_keywords[0]}%22%20OR%20%22{q_keywords[1]}%22)%20min_faves%3A{q_favs}%20until%3A{q_until}%20since%3A{q_since}&src=typed_query&f=top\"\n",
    "twitter_query_statement"
   ]
  },
  {
   "cell_type": "code",
   "execution_count": 225,
   "metadata": {},
   "outputs": [],
   "source": [
    "edge_service=Service(os.path.abspath('msedgedriver.exe'))\n",
    "edge_options=webdriver.EdgeOptions()\n",
    "driver=webdriver.Edge(service=edge_service,options=edge_options)"
   ]
  },
  {
   "cell_type": "code",
   "execution_count": 226,
   "metadata": {},
   "outputs": [],
   "source": [
    "# #skipped\n",
    "# #twitter dummy user account\n",
    "# USERNAME='adfkjgldfsdf'\n",
    "# PASSWORD='Alistor0147896325'\n",
    "# EMAIL='avluqtmtenqyzwwzzh@hthlm.com'\n",
    "# AUTH_TOKEN=\"1a5e17e32f652bea8aedf340fe1e32ff647e3b4d\"\n",
    "# CT_ZERO=\"89a2e9008f3e31ace6576ab8fcb97c65eba4791d9ced42a8d41b07d0f530cf8267ff6f200659a12a052abbf26595d58ada1ef8095f45a1337f7dc4fabde03b935892bfe26df585166409616d33c2bd80\"\n",
    "\n",
    "# #cookies\n",
    "# cookies=[\n",
    "#     {\"name\": \"auth_token\", \"value\": AUTH_TOKEN},\n",
    "#     {\"name\": \"ct0\", \"value\": CT_ZERO}\n",
    "# ]"
   ]
  },
  {
   "cell_type": "code",
   "execution_count": 227,
   "metadata": {},
   "outputs": [],
   "source": [
    "driver.get(twitter_query_statement)\n",
    "# time.sleep(3)"
   ]
  },
  {
   "cell_type": "code",
   "execution_count": 228,
   "metadata": {},
   "outputs": [],
   "source": [
    "with open('cookiedata.pkl','rb') as reader:\n",
    "    cookie_data=pickle.load(reader)\n",
    "\n",
    "# print(cookie_data)\n",
    "\n",
    "for cookie in cookie_data:\n",
    "    driver.add_cookie(cookie)\n",
    "\n",
    "driver.get(twitter_query_statement)\n",
    "# time.sleep(3)\n"
   ]
  },
  {
   "cell_type": "code",
   "execution_count": 229,
   "metadata": {},
   "outputs": [
    {
     "name": "stdout",
     "output_type": "stream",
     "text": [
      "Successfully Logged in!\n"
     ]
    }
   ],
   "source": [
    "try:\n",
    "    driver.find_element(By.XPATH,\"//input[@aria-label='Search query']\")\n",
    "    print('Successfully Logged in!')\n",
    "except:\n",
    "    print('Failed to login!')"
   ]
  },
  {
   "cell_type": "code",
   "execution_count": 230,
   "metadata": {},
   "outputs": [],
   "source": [
    "tweets=[]\n",
    "tweet_limiter=int(50/3)\n",
    "\n",
    "\n",
    "#total number of tweets in outer loop\n",
    "#3 tweets pulled per inner loop\n",
    "for _ in range(tweet_limiter):\n",
    "    tweeter_elements=driver.find_elements(By.XPATH,\"//div[@data-testid='User-Name']\")\n",
    "    tweets_elements=driver.find_elements(By.XPATH,\"//div[@data-testid='tweetText']\")\n",
    "    metadata_elements=driver.find_elements(By.XPATH,\"//div[contains(@aria-label, 'replies')]\")\n",
    "\n",
    "    min_length=min(len(tweeter_elements),len(tweets_elements),len(metadata_elements))\n",
    "\n",
    "    for i in range(len(tweeter_elements)):\n",
    "\n",
    "        tweeter_data=tweeter_elements[i].text.split('\\n')\n",
    "        tweeter_data.pop(2)\n",
    "\n",
    "        tweets_data=tweets_elements[i].text.replace('\\n',' ')\n",
    "\n",
    "        try:\n",
    "            meta_data=[data_step2.split(' ')[0] for data_step2 in [data_step1.strip() for data_step1 in metadata_elements[i].get_attribute('aria-label').split(',')]]\n",
    "            rowdata={'name':tweeter_data[0],'handle':tweeter_data[1],'date':tweeter_data[2],'text':tweets_data,'replies':meta_data[0],'repost':meta_data[1],'likes':meta_data[2],'bookmarks':meta_data[3],'views':meta_data[4]}\n",
    "            tweets.append(rowdata)\n",
    "        except:\n",
    "            continue\n",
    "        \n",
    "    driver.execute_script('window.scrollTo(0,document.body.scrollHeight);')\n",
    "    time.sleep(2)\n",
    "\n"
   ]
  },
  {
   "cell_type": "code",
   "execution_count": 231,
   "metadata": {},
   "outputs": [
    {
     "data": {
      "text/plain": [
       "50"
      ]
     },
     "execution_count": 231,
     "metadata": {},
     "output_type": "execute_result"
    }
   ],
   "source": [
    "len(tweets)"
   ]
  },
  {
   "cell_type": "code",
   "execution_count": 233,
   "metadata": {},
   "outputs": [
    {
     "name": "stdout",
     "output_type": "stream",
     "text": [
      "John B\n",
      "CNBCOvertime\n",
      "NVIDIA GeForce\n",
      "Obsolete Sony\n",
      "Keith McCullough\n",
      "世界四季報\n",
      "Arun S. Chopra CFA CMT\n",
      "Pure Xbox\n",
      "Vista Partners LLC\n",
      "unusual_whales\n",
      "Antonio Costa\n",
      "マーケットプレス\n",
      "世界四季報\n",
      "XboxEra\n",
      "RTB - AKA Mr Wen, Based Kitten\n",
      "cybercash28\n",
      "Arete Trading\n",
      "Ross Gerber\n",
      "Theta Warrior\n",
      "Austin Lieberman\n",
      "cybercash28\n",
      "Market Rebellion\n",
      "GamesBeat\n",
      "BlueCrypto\n",
      "TrendSpider\n",
      "Market Rebellion\n",
      "NVIDIA HPC Developer\n",
      "FIRED Up Wealth\n",
      "Mukund Mohan\n",
      "NVIDIA HPC Developer\n",
      "FIRED Up Wealth\n",
      "Mukund Mohan\n",
      "NVIDIA HPC Developer\n",
      "FIRED Up Wealth\n",
      "Mukund Mohan\n",
      "NVIDIA HPC Developer\n",
      "FIRED Up Wealth\n",
      "Mukund Mohan\n",
      "NVIDIA HPC Developer\n",
      "FIRED Up Wealth\n",
      "Mukund Mohan\n",
      "NVIDIA HPC Developer\n",
      "FIRED Up Wealth\n",
      "Mukund Mohan\n",
      "NVIDIA HPC Developer\n",
      "FIRED Up Wealth\n",
      "Mukund Mohan\n",
      "NVIDIA HPC Developer\n",
      "FIRED Up Wealth\n",
      "Mukund Mohan\n"
     ]
    }
   ],
   "source": [
    "for i in tweets:\n",
    "    print(i['name'])"
   ]
  },
  {
   "cell_type": "code",
   "execution_count": 234,
   "metadata": {},
   "outputs": [],
   "source": [
    "driver.quit()"
   ]
  }
 ],
 "metadata": {
  "kernelspec": {
   "display_name": "Python 3",
   "language": "python",
   "name": "python3"
  },
  "language_info": {
   "codemirror_mode": {
    "name": "ipython",
    "version": 3
   },
   "file_extension": ".py",
   "mimetype": "text/x-python",
   "name": "python",
   "nbconvert_exporter": "python",
   "pygments_lexer": "ipython3",
   "version": "3.12.3"
  }
 },
 "nbformat": 4,
 "nbformat_minor": 2
}
